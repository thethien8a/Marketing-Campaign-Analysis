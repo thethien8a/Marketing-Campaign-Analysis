{
 "cells": [
  {
   "cell_type": "markdown",
   "id": "90d0d6f0",
   "metadata": {},
   "source": [
    "## Import module"
   ]
  },
  {
   "cell_type": "code",
   "execution_count": null,
   "id": "fb3d1b01",
   "metadata": {},
   "outputs": [],
   "source": [
    "import pandas as pd\n",
    "import numpy as np\n",
    "import matplotlib.pyplot as plt\n",
    "import seaborn as sns\n",
    "import warnings\n",
    "warnings.filterwarnings('ignore')"
   ]
  },
  {
   "cell_type": "markdown",
   "id": "8d1e3e58",
   "metadata": {},
   "source": [
    "## Import data"
   ]
  },
  {
   "cell_type": "code",
   "execution_count": 4,
   "id": "209e9448",
   "metadata": {},
   "outputs": [],
   "source": [
    "df = pd.read_excel('Ppc_campaign_performance_data.xlsx')"
   ]
  },
  {
   "cell_type": "code",
   "execution_count": 12,
   "id": "033700f2",
   "metadata": {},
   "outputs": [
    {
     "data": {
      "text/html": [
       "<div>\n",
       "<style scoped>\n",
       "    .dataframe tbody tr th:only-of-type {\n",
       "        vertical-align: middle;\n",
       "    }\n",
       "\n",
       "    .dataframe tbody tr th {\n",
       "        vertical-align: top;\n",
       "    }\n",
       "\n",
       "    .dataframe thead th {\n",
       "        text-align: right;\n",
       "    }\n",
       "</style>\n",
       "<table border=\"1\" class=\"dataframe\">\n",
       "  <thead>\n",
       "    <tr style=\"text-align: right;\">\n",
       "      <th></th>\n",
       "      <th>Campaign_ID</th>\n",
       "      <th>Budget</th>\n",
       "      <th>Clicks</th>\n",
       "      <th>CTR</th>\n",
       "      <th>CPC</th>\n",
       "      <th>Conversions</th>\n",
       "      <th>CPA</th>\n",
       "      <th>Conversion_Rate</th>\n",
       "      <th>Duration</th>\n",
       "      <th>Platform</th>\n",
       "      <th>Content_Type</th>\n",
       "      <th>Target_Age</th>\n",
       "      <th>Target_Gender</th>\n",
       "      <th>Region</th>\n",
       "      <th>Revenue</th>\n",
       "      <th>Spend</th>\n",
       "      <th>ROAS</th>\n",
       "      <th>Date</th>\n",
       "      <th>Impressions</th>\n",
       "      <th>ROI</th>\n",
       "    </tr>\n",
       "  </thead>\n",
       "  <tbody>\n",
       "    <tr>\n",
       "      <th>0</th>\n",
       "      <td>C3578</td>\n",
       "      <td>6390</td>\n",
       "      <td>401</td>\n",
       "      <td>0.0461</td>\n",
       "      <td>15.94</td>\n",
       "      <td>174</td>\n",
       "      <td>36.72</td>\n",
       "      <td>0.4339</td>\n",
       "      <td>20</td>\n",
       "      <td>Instagram</td>\n",
       "      <td>Carousel</td>\n",
       "      <td>35-44</td>\n",
       "      <td>Male</td>\n",
       "      <td>Europe</td>\n",
       "      <td>27840</td>\n",
       "      <td>6453.9</td>\n",
       "      <td>4.31</td>\n",
       "      <td>2025-01-19</td>\n",
       "      <td>8698</td>\n",
       "      <td>3.31</td>\n",
       "    </tr>\n",
       "    <tr>\n",
       "      <th>1</th>\n",
       "      <td>C6702</td>\n",
       "      <td>9870</td>\n",
       "      <td>1286</td>\n",
       "      <td>0.2860</td>\n",
       "      <td>7.67</td>\n",
       "      <td>821</td>\n",
       "      <td>12.02</td>\n",
       "      <td>0.6384</td>\n",
       "      <td>28</td>\n",
       "      <td>LinkedIn</td>\n",
       "      <td>Text</td>\n",
       "      <td>55+</td>\n",
       "      <td>Male</td>\n",
       "      <td>Africa</td>\n",
       "      <td>128076</td>\n",
       "      <td>10067.4</td>\n",
       "      <td>12.72</td>\n",
       "      <td>2025-01-22</td>\n",
       "      <td>4496</td>\n",
       "      <td>11.72</td>\n",
       "    </tr>\n",
       "    <tr>\n",
       "      <th>2</th>\n",
       "      <td>C9725</td>\n",
       "      <td>7700</td>\n",
       "      <td>1684</td>\n",
       "      <td>0.2122</td>\n",
       "      <td>4.57</td>\n",
       "      <td>1060</td>\n",
       "      <td>7.26</td>\n",
       "      <td>0.6295</td>\n",
       "      <td>15</td>\n",
       "      <td>Instagram</td>\n",
       "      <td>Video</td>\n",
       "      <td>35-44</td>\n",
       "      <td>Other</td>\n",
       "      <td>North America</td>\n",
       "      <td>193980</td>\n",
       "      <td>7623.0</td>\n",
       "      <td>25.45</td>\n",
       "      <td>2024-07-23</td>\n",
       "      <td>7935</td>\n",
       "      <td>24.45</td>\n",
       "    </tr>\n",
       "    <tr>\n",
       "      <th>3</th>\n",
       "      <td>C9472</td>\n",
       "      <td>8420</td>\n",
       "      <td>444</td>\n",
       "      <td>0.0961</td>\n",
       "      <td>18.96</td>\n",
       "      <td>308</td>\n",
       "      <td>27.34</td>\n",
       "      <td>0.6937</td>\n",
       "      <td>25</td>\n",
       "      <td>Google</td>\n",
       "      <td>Text</td>\n",
       "      <td>25-34</td>\n",
       "      <td>Male</td>\n",
       "      <td>North America</td>\n",
       "      <td>24024</td>\n",
       "      <td>8504.2</td>\n",
       "      <td>2.82</td>\n",
       "      <td>2024-04-20</td>\n",
       "      <td>4620</td>\n",
       "      <td>1.82</td>\n",
       "    </tr>\n",
       "    <tr>\n",
       "      <th>4</th>\n",
       "      <td>C7601</td>\n",
       "      <td>8470</td>\n",
       "      <td>1912</td>\n",
       "      <td>0.3652</td>\n",
       "      <td>4.43</td>\n",
       "      <td>1428</td>\n",
       "      <td>5.93</td>\n",
       "      <td>0.7469</td>\n",
       "      <td>9</td>\n",
       "      <td>Google</td>\n",
       "      <td>Text</td>\n",
       "      <td>25-34</td>\n",
       "      <td>Other</td>\n",
       "      <td>Europe</td>\n",
       "      <td>277032</td>\n",
       "      <td>8046.5</td>\n",
       "      <td>34.43</td>\n",
       "      <td>2024-08-07</td>\n",
       "      <td>5235</td>\n",
       "      <td>33.43</td>\n",
       "    </tr>\n",
       "  </tbody>\n",
       "</table>\n",
       "</div>"
      ],
      "text/plain": [
       "  Campaign_ID  Budget  Clicks     CTR    CPC  Conversions    CPA  \\\n",
       "0       C3578    6390     401  0.0461  15.94          174  36.72   \n",
       "1       C6702    9870    1286  0.2860   7.67          821  12.02   \n",
       "2       C9725    7700    1684  0.2122   4.57         1060   7.26   \n",
       "3       C9472    8420     444  0.0961  18.96          308  27.34   \n",
       "4       C7601    8470    1912  0.3652   4.43         1428   5.93   \n",
       "\n",
       "   Conversion_Rate  Duration   Platform Content_Type Target_Age Target_Gender  \\\n",
       "0           0.4339        20  Instagram     Carousel      35-44          Male   \n",
       "1           0.6384        28   LinkedIn         Text        55+          Male   \n",
       "2           0.6295        15  Instagram        Video      35-44         Other   \n",
       "3           0.6937        25     Google         Text      25-34          Male   \n",
       "4           0.7469         9     Google         Text      25-34         Other   \n",
       "\n",
       "          Region  Revenue    Spend   ROAS        Date  Impressions    ROI  \n",
       "0         Europe    27840   6453.9   4.31  2025-01-19         8698   3.31  \n",
       "1         Africa   128076  10067.4  12.72  2025-01-22         4496  11.72  \n",
       "2  North America   193980   7623.0  25.45  2024-07-23         7935  24.45  \n",
       "3  North America    24024   8504.2   2.82  2024-04-20         4620   1.82  \n",
       "4         Europe   277032   8046.5  34.43  2024-08-07         5235  33.43  "
      ]
     },
     "execution_count": 12,
     "metadata": {},
     "output_type": "execute_result"
    }
   ],
   "source": [
    "df.head()"
   ]
  },
  {
   "cell_type": "markdown",
   "id": "3af216e6",
   "metadata": {},
   "source": [
    "## Cleaning data"
   ]
  },
  {
   "cell_type": "markdown",
   "id": "148c1e49",
   "metadata": {},
   "source": [
    "### Kiểm tra kiểu dữ liệu"
   ]
  },
  {
   "cell_type": "code",
   "execution_count": 18,
   "id": "3f295b31",
   "metadata": {},
   "outputs": [
    {
     "name": "stdout",
     "output_type": "stream",
     "text": [
      "<class 'pandas.core.frame.DataFrame'>\n",
      "RangeIndex: 1000 entries, 0 to 999\n",
      "Data columns (total 20 columns):\n",
      " #   Column           Non-Null Count  Dtype         \n",
      "---  ------           --------------  -----         \n",
      " 0   Campaign_ID      1000 non-null   object        \n",
      " 1   Budget           1000 non-null   int64         \n",
      " 2   Clicks           1000 non-null   int64         \n",
      " 3   CTR              1000 non-null   float64       \n",
      " 4   CPC              1000 non-null   float64       \n",
      " 5   Conversions      1000 non-null   int64         \n",
      " 6   CPA              1000 non-null   float64       \n",
      " 7   Conversion_Rate  1000 non-null   float64       \n",
      " 8   Duration         1000 non-null   int64         \n",
      " 9   Platform         1000 non-null   object        \n",
      " 10  Content_Type     1000 non-null   object        \n",
      " 11  Target_Age       1000 non-null   object        \n",
      " 12  Target_Gender    1000 non-null   object        \n",
      " 13  Region           1000 non-null   object        \n",
      " 14  Revenue          1000 non-null   int64         \n",
      " 15  Spend            1000 non-null   float64       \n",
      " 16  ROAS             1000 non-null   float64       \n",
      " 17  Date             1000 non-null   datetime64[ns]\n",
      " 18  Impressions      1000 non-null   int64         \n",
      " 19  ROI              1000 non-null   float64       \n",
      "dtypes: datetime64[ns](1), float64(7), int64(6), object(6)\n",
      "memory usage: 156.4+ KB\n"
     ]
    }
   ],
   "source": [
    "df.info()"
   ]
  },
  {
   "cell_type": "markdown",
   "id": "90dea781",
   "metadata": {},
   "source": [
    "-> Không có giá trị null, kiểu dữ liệu tương đối chuẩn, có vẻ như dữ liệu đã được người cung cấp trước đó làm sạch.  \n",
    "-> Ta sẽ đổi kiểu dữ liệu của Date sang datetime"
   ]
  },
  {
   "cell_type": "code",
   "execution_count": 17,
   "id": "a4c8f368",
   "metadata": {},
   "outputs": [],
   "source": [
    "df[\"Date\"] = pd.to_datetime(df[\"Date\"])"
   ]
  },
  {
   "cell_type": "markdown",
   "id": "db8ecae1",
   "metadata": {},
   "source": [
    "### Kiểm tra trùng lặp"
   ]
  },
  {
   "cell_type": "code",
   "execution_count": null,
   "id": "0c63042b",
   "metadata": {},
   "outputs": [
    {
     "data": {
      "text/plain": [
       "np.int64(46)"
      ]
     },
     "execution_count": 13,
     "metadata": {},
     "output_type": "execute_result"
    }
   ],
   "source": [
    "\n",
    "df[\"Campaign_ID\"].duplicated().sum()"
   ]
  },
  {
   "cell_type": "markdown",
   "id": "b241c125",
   "metadata": {},
   "source": [
    "Nhưng có thực sự là vậy không ? Ta cần chú ý đến liệu có phải rằng chiến dịch sẽ được thực hiện dở dang chưa hoàn thành nốt không ?"
   ]
  },
  {
   "cell_type": "code",
   "execution_count": 14,
   "id": "70b16349",
   "metadata": {},
   "outputs": [
    {
     "data": {
      "text/plain": [
       "Campaign_ID\n",
       "C5910    3\n",
       "C5327    2\n",
       "C2099    2\n",
       "C6702    2\n",
       "C9725    2\n",
       "        ..\n",
       "C4071    1\n",
       "C2402    1\n",
       "C3257    1\n",
       "C4315    1\n",
       "C9612    1\n",
       "Name: count, Length: 954, dtype: int64"
      ]
     },
     "execution_count": 14,
     "metadata": {},
     "output_type": "execute_result"
    }
   ],
   "source": [
    "df[\"Campaign_ID\"].value_counts()"
   ]
  },
  {
   "cell_type": "code",
   "execution_count": 15,
   "id": "245e394a",
   "metadata": {},
   "outputs": [
    {
     "data": {
      "text/html": [
       "<div>\n",
       "<style scoped>\n",
       "    .dataframe tbody tr th:only-of-type {\n",
       "        vertical-align: middle;\n",
       "    }\n",
       "\n",
       "    .dataframe tbody tr th {\n",
       "        vertical-align: top;\n",
       "    }\n",
       "\n",
       "    .dataframe thead th {\n",
       "        text-align: right;\n",
       "    }\n",
       "</style>\n",
       "<table border=\"1\" class=\"dataframe\">\n",
       "  <thead>\n",
       "    <tr style=\"text-align: right;\">\n",
       "      <th></th>\n",
       "      <th>Campaign_ID</th>\n",
       "      <th>Budget</th>\n",
       "      <th>Clicks</th>\n",
       "      <th>CTR</th>\n",
       "      <th>CPC</th>\n",
       "      <th>Conversions</th>\n",
       "      <th>CPA</th>\n",
       "      <th>Conversion_Rate</th>\n",
       "      <th>Duration</th>\n",
       "      <th>Platform</th>\n",
       "      <th>Content_Type</th>\n",
       "      <th>Target_Age</th>\n",
       "      <th>Target_Gender</th>\n",
       "      <th>Region</th>\n",
       "      <th>Revenue</th>\n",
       "      <th>Spend</th>\n",
       "      <th>ROAS</th>\n",
       "      <th>Date</th>\n",
       "      <th>Impressions</th>\n",
       "      <th>ROI</th>\n",
       "    </tr>\n",
       "  </thead>\n",
       "  <tbody>\n",
       "    <tr>\n",
       "      <th>272</th>\n",
       "      <td>C5910</td>\n",
       "      <td>4310</td>\n",
       "      <td>577</td>\n",
       "      <td>0.1408</td>\n",
       "      <td>7.47</td>\n",
       "      <td>188</td>\n",
       "      <td>22.93</td>\n",
       "      <td>0.3258</td>\n",
       "      <td>7</td>\n",
       "      <td>Facebook</td>\n",
       "      <td>Carousel</td>\n",
       "      <td>18-24</td>\n",
       "      <td>Other</td>\n",
       "      <td>Africa</td>\n",
       "      <td>20868</td>\n",
       "      <td>4223.8</td>\n",
       "      <td>4.94</td>\n",
       "      <td>2024-08-15</td>\n",
       "      <td>4098</td>\n",
       "      <td>3.94</td>\n",
       "    </tr>\n",
       "    <tr>\n",
       "      <th>351</th>\n",
       "      <td>C5910</td>\n",
       "      <td>7760</td>\n",
       "      <td>1931</td>\n",
       "      <td>0.7453</td>\n",
       "      <td>4.02</td>\n",
       "      <td>1221</td>\n",
       "      <td>6.36</td>\n",
       "      <td>0.6323</td>\n",
       "      <td>29</td>\n",
       "      <td>YouTube</td>\n",
       "      <td>Image</td>\n",
       "      <td>18-24</td>\n",
       "      <td>Other</td>\n",
       "      <td>Europe</td>\n",
       "      <td>238095</td>\n",
       "      <td>8148.0</td>\n",
       "      <td>29.22</td>\n",
       "      <td>2024-06-29</td>\n",
       "      <td>2590</td>\n",
       "      <td>28.22</td>\n",
       "    </tr>\n",
       "    <tr>\n",
       "      <th>827</th>\n",
       "      <td>C5910</td>\n",
       "      <td>7160</td>\n",
       "      <td>293</td>\n",
       "      <td>0.2169</td>\n",
       "      <td>24.44</td>\n",
       "      <td>291</td>\n",
       "      <td>24.60</td>\n",
       "      <td>0.9932</td>\n",
       "      <td>17</td>\n",
       "      <td>LinkedIn</td>\n",
       "      <td>Video</td>\n",
       "      <td>55+</td>\n",
       "      <td>Other</td>\n",
       "      <td>Asia</td>\n",
       "      <td>49179</td>\n",
       "      <td>7374.8</td>\n",
       "      <td>6.67</td>\n",
       "      <td>2024-04-23</td>\n",
       "      <td>1350</td>\n",
       "      <td>5.67</td>\n",
       "    </tr>\n",
       "  </tbody>\n",
       "</table>\n",
       "</div>"
      ],
      "text/plain": [
       "    Campaign_ID  Budget  Clicks     CTR    CPC  Conversions    CPA  \\\n",
       "272       C5910    4310     577  0.1408   7.47          188  22.93   \n",
       "351       C5910    7760    1931  0.7453   4.02         1221   6.36   \n",
       "827       C5910    7160     293  0.2169  24.44          291  24.60   \n",
       "\n",
       "     Conversion_Rate  Duration  Platform Content_Type Target_Age  \\\n",
       "272           0.3258         7  Facebook     Carousel      18-24   \n",
       "351           0.6323        29   YouTube        Image      18-24   \n",
       "827           0.9932        17  LinkedIn        Video        55+   \n",
       "\n",
       "    Target_Gender  Region  Revenue   Spend   ROAS        Date  Impressions  \\\n",
       "272         Other  Africa    20868  4223.8   4.94  2024-08-15         4098   \n",
       "351         Other  Europe   238095  8148.0  29.22  2024-06-29         2590   \n",
       "827         Other    Asia    49179  7374.8   6.67  2024-04-23         1350   \n",
       "\n",
       "       ROI  \n",
       "272   3.94  \n",
       "351  28.22  \n",
       "827   5.67  "
      ]
     },
     "execution_count": 15,
     "metadata": {},
     "output_type": "execute_result"
    }
   ],
   "source": [
    "df[df[\"Campaign_ID\"] == \"C5910\"] "
   ]
  },
  {
   "cell_type": "markdown",
   "id": "1fa22479",
   "metadata": {},
   "source": [
    "-> Có vẻ cùng Campaign_ID thế nhưng"
   ]
  },
  {
   "cell_type": "markdown",
   "id": "50ce43f7",
   "metadata": {},
   "source": [
    "## Create new featuress"
   ]
  },
  {
   "cell_type": "code",
   "execution_count": null,
   "id": "10b27a00",
   "metadata": {},
   "outputs": [],
   "source": [
    "# Thêm một vài cột\n",
    "df[\"Profit\"] = df[\"Revenue\"] - df[\"Cost\"]\n",
    "df[\"ROI\"] = df[\"ROAS\"] - 1\n"
   ]
  }
 ],
 "metadata": {
  "kernelspec": {
   "display_name": "Python 3",
   "language": "python",
   "name": "python3"
  },
  "language_info": {
   "codemirror_mode": {
    "name": "ipython",
    "version": 3
   },
   "file_extension": ".py",
   "mimetype": "text/x-python",
   "name": "python",
   "nbconvert_exporter": "python",
   "pygments_lexer": "ipython3",
   "version": "3.12.2"
  }
 },
 "nbformat": 4,
 "nbformat_minor": 5
}
